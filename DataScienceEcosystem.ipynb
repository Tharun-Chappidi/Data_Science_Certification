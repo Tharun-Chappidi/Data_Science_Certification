{
 "cells": [
  {
   "cell_type": "markdown",
   "id": "df5c3fac-93f5-4583-b71b-16d609df6e93",
   "metadata": {},
   "source": [
    "Data Science Tools and Ecosystem\n",
    "======"
   ]
  },
  {
   "attachments": {},
   "cell_type": "markdown",
   "id": "efa837e8-1958-4255-835c-aa3906ceaed5",
   "metadata": {},
   "source": [
    "In this notebook, Data Science Tools and Ecosystem are summarized."
   ]
  },
  {
   "cell_type": "markdown",
   "id": "2846859e-4e1d-4454-91da-57ec9bd5bc87",
   "metadata": {},
   "source": [
    "**Objectives:**\\\n",
    "     > List popular languages for Data Science\\\n",
    "     > List popular libraries for Data Science\\\n",
    "     > List popular Data Science Tools"
   ]
  },
  {
   "cell_type": "markdown",
   "id": "8736bb96-cfe8-4b37-86e5-08ec4ebdd25a",
   "metadata": {},
   "source": [
    "Some of the popular languages that Data Scientists use are: \n",
    "1. Python\n",
    "2. R\n",
    "3. SQL\n",
    "4. Java\n",
    "5. Julia\n",
    "6. C\n",
    "7. C++\n",
    "8. Go"
   ]
  },
  {
   "cell_type": "markdown",
   "id": "a7b1dc05-a995-4649-b759-25f5f8d7f497",
   "metadata": {},
   "source": [
    "Some of the commonly used libraries used by Data Scientists include: \n",
    "1. Numpy\n",
    "2. Panda\n",
    "3. Matplotlib\n",
    "4. Seaborn\n",
    "5. Tensorflow\n",
    "6. scikit-learn\n",
    "7. Keras\n",
    "8. PyTorch"
   ]
  },
  {
   "cell_type": "markdown",
   "id": "e9f71f83-5158-4ba2-9cdc-d911c8f98be0",
   "metadata": {},
   "source": [
    "Data Science Tools\n",
    "------\n",
    "* Jupyter Notebook\n",
    "* R studio\n",
    "* Tensorflow"
   ]
  },
  {
   "cell_type": "markdown",
   "id": "706cf00a-0460-478a-8cbf-9912ac278904",
   "metadata": {},
   "source": [
    "### Below are a few examples of evaluating arithmetic expressions in Python\n"
   ]
  },
  {
   "cell_type": "code",
   "execution_count": 8,
   "id": "7dc21ff6-1041-4b10-9019-0a5eab75621c",
   "metadata": {},
   "outputs": [
    {
     "data": {
      "text/plain": [
       "17"
      ]
     },
     "execution_count": 8,
     "metadata": {},
     "output_type": "execute_result"
    }
   ],
   "source": [
    "# This a simple arithmetic expression to mutiply then add integers\n",
    "(3*4)+5"
   ]
  },
  {
   "cell_type": "code",
   "execution_count": 11,
   "id": "7257f370-c261-4daf-a588-323aa552cffd",
   "metadata": {},
   "outputs": [
    {
     "data": {
      "text/plain": [
       "3.3333333333333335"
      ]
     },
     "execution_count": 11,
     "metadata": {},
     "output_type": "execute_result"
    }
   ],
   "source": [
    "# This will convert 200 minutes to hours by diving by 60.\n",
    "# Based on what is return type of result, we can perform normal(/) or Integer division(//)\n",
    "(200/60)"
   ]
  },
  {
   "cell_type": "markdown",
   "id": "ceb842de-6197-4fb5-924b-9037cf086644",
   "metadata": {},
   "source": [
    "Author\n",
    "-----\n",
    "Chappidi Tharun Kuamr Reddy"
   ]
  }
 ],
 "metadata": {
  "kernelspec": {
   "display_name": "Python 3 (ipykernel)",
   "language": "python",
   "name": "python3"
  },
  "language_info": {
   "codemirror_mode": {
    "name": "ipython",
    "version": 3
   },
   "file_extension": ".py",
   "mimetype": "text/x-python",
   "name": "python",
   "nbconvert_exporter": "python",
   "pygments_lexer": "ipython3",
   "version": "3.9.5"
  }
 },
 "nbformat": 4,
 "nbformat_minor": 5
}
